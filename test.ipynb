{
 "cells": [
  {
   "cell_type": "code",
   "execution_count": null,
   "id": "1de26dc0",
   "metadata": {},
   "outputs": [
    {
     "name": "stderr",
     "output_type": "stream",
     "text": [
      "/media/mldadmin/home/s124mdg34_03/miniconda3/envs/nlp/lib/python3.12/site-packages/tqdm/auto.py:21: TqdmWarning: IProgress not found. Please update jupyter and ipywidgets. See https://ipywidgets.readthedocs.io/en/stable/user_install.html\n",
      "  from .autonotebook import tqdm as notebook_tqdm\n"
     ]
    }
   ],
   "source": [
    "from datasets import load_dataset\n",
    "\n",
    "# 仅 Java 元数据（file‑ids、path、sha1 等；不会一下下载 30 TB）\n",
    "java_meta = load_dataset(\n",
    "    \"bigcode/the-stack-v2-dedup\",   # 数据集名称\n",
    "    \"Java\",                         # 子目录 / 语言标识\n",
    "    split=\"train\",                  # 切片\n",
    "    streaming=True                  # 流式 → 按需下载\n",
    ")"
   ]
  },
  {
   "cell_type": "code",
   "execution_count": null,
   "id": "dbd6cb25",
   "metadata": {},
   "outputs": [
    {
     "name": "stderr",
     "output_type": "stream",
     "text": [
      "Generating train split: 100%|██████████| 806789/806789 [00:07<00:00, 107003.02 examples/s]\n",
      "Generating test split: 100%|██████████| 88747/88747 [00:00<00:00, 107149.10 examples/s]\n",
      "Generating valid split: 100%|██████████| 897/897 [00:00<00:00, 63101.33 examples/s]\n"
     ]
    }
   ],
   "source": [
    "from datasets import load_dataset\n",
    "\n",
    "ds = load_dataset(\"ammarnasr/the-stack-java-clean\")"
   ]
  },
  {
   "cell_type": "code",
   "execution_count": null,
   "id": "29fd8160",
   "metadata": {},
   "outputs": [
    {
     "name": "stderr",
     "output_type": "stream",
     "text": [
      "Downloading data: 100%|██████████| 20/20 [06:12<00:00, 18.62s/files]\n",
      "Generating train split: 100%|██████████| 2000000/2000000 [00:23<00:00, 83717.50 examples/s]\n"
     ]
    }
   ],
   "source": [
    "from datasets import load_dataset\n",
    "# java \n",
    "ds = load_dataset(\"Reset23/the-stack-v2-new-java\")"
   ]
  },
  {
   "cell_type": "code",
   "execution_count": null,
   "id": "70402f9c",
   "metadata": {},
   "outputs": [],
   "source": [
    "from datasets import load_dataset\n",
    "# java filtered dataset\n",
    "ds = load_dataset(\"Reset23/the-stack-v2-filtered-java\")"
   ]
  },
  {
   "cell_type": "code",
   "execution_count": null,
   "id": "e3e59b7f",
   "metadata": {},
   "outputs": [
    {
     "name": "stdout",
     "output_type": "stream",
     "text": [
      "新增 token 数: 3\n"
     ]
    }
   ],
   "source": []
  },
  {
   "cell_type": "code",
   "execution_count": 5,
   "id": "80963eb9",
   "metadata": {},
   "outputs": [
    {
     "name": "stdout",
     "output_type": "stream",
     "text": [
      "None\n"
     ]
    }
   ],
   "source": [
    "from transformers import AutoTokenizer, AutoModelForCausalLM\n",
    "tok = AutoTokenizer.from_pretrained(\"deepseek-ai/deepseek-coder-1.3b-base\")\n",
    "model = AutoModelForCausalLM.from_pretrained(\"deepseek-ai/deepseek-coder-1.3b-base\")\n",
    "print(tok.convert_tokens_to_ids(\"<|fim_begin|>\"))  # 若输出整数，说明已存在\n"
   ]
  },
  {
   "cell_type": "code",
   "execution_count": 8,
   "id": "867ca1d5",
   "metadata": {},
   "outputs": [
    {
     "name": "stdout",
     "output_type": "stream",
     "text": [
      "新增 token 数: 3\n"
     ]
    }
   ],
   "source": [
    "extra = {\"additional_special_tokens\": [\"<|fim_begin|>\", \"<|fim_hole|>\", \"<|fim_end|>\"]}\n",
    "added = tok.add_special_tokens(extra)\n",
    "print(\"新增 token 数:\", added)"
   ]
  },
  {
   "cell_type": "code",
   "execution_count": 9,
   "id": "2c58d597",
   "metadata": {},
   "outputs": [
    {
     "name": "stderr",
     "output_type": "stream",
     "text": [
      "The new embeddings will be initialized from a multivariate normal distribution that has old embeddings' mean and covariance. As described in this article: https://nlp.stanford.edu/~johnhew/vocab-expansion.html. To disable this, use `mean_resizing=False`\n",
      "The new lm_head weights will be initialized from a multivariate normal distribution that has old embeddings' mean and covariance. As described in this article: https://nlp.stanford.edu/~johnhew/vocab-expansion.html. To disable this, use `mean_resizing=False`\n"
     ]
    },
    {
     "data": {
      "text/plain": [
       "Embedding(32025, 2048)"
      ]
     },
     "execution_count": 9,
     "metadata": {},
     "output_type": "execute_result"
    }
   ],
   "source": [
    "model.resize_token_embeddings(len(tok))"
   ]
  },
  {
   "cell_type": "code",
   "execution_count": 10,
   "id": "1d6921ba",
   "metadata": {},
   "outputs": [
    {
     "name": "stdout",
     "output_type": "stream",
     "text": [
      "32022\n"
     ]
    }
   ],
   "source": [
    "print(tok.convert_tokens_to_ids(\"<|fim_begin|>\"))  # 若输出整数，说明已存在"
   ]
  }
 ],
 "metadata": {
  "kernelspec": {
   "display_name": "nlp",
   "language": "python",
   "name": "python3"
  },
  "language_info": {
   "codemirror_mode": {
    "name": "ipython",
    "version": 3
   },
   "file_extension": ".py",
   "mimetype": "text/x-python",
   "name": "python",
   "nbconvert_exporter": "python",
   "pygments_lexer": "ipython3",
   "version": "3.12.0"
  }
 },
 "nbformat": 4,
 "nbformat_minor": 5
}
